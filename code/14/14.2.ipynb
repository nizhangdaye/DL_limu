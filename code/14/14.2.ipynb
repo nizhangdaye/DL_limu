{
 "cells": [
  {
   "cell_type": "code",
   "id": "initial_id",
   "metadata": {
    "collapsed": true,
    "ExecuteTime": {
     "end_time": "2024-09-02T10:30:31.828020Z",
     "start_time": "2024-09-02T10:30:31.795732Z"
    }
   },
   "source": [
    "import collections\n",
    "import re\n",
    "from d2l import torch as d2l\n",
    "\n",
    "# 读取数据集\n",
    "d2l.DATA_HUB['time_machine'] = (d2l.DATA_URL + 'timemachine.txt',\n",
    "                                '090b5e7e70c295757f55df93cb0a180b9691891a')\n",
    "\n",
    "\n",
    "def read_time_machine():\n",
    "    \"\"\"将时间机器数据集加载为文本行的列表\"\"\"\n",
    "    with open(d2l.download('time_machine'), 'r') as f:\n",
    "        lines = f.readlines()  # 读取所有行\n",
    "        # 把不是大写字母、小写字母的东西，全部变成空格\n",
    "        # 去除非字母字符，并转换为小写\n",
    "    return [re.sub('[^A-Za-z]+', ' ', line).strip().lower() for line in lines]  # 正则表达式\n",
    "\n",
    "\n",
    "# 读取时间机器数据集，并将结果存储在 'lines' 变量中\n",
    "lines = read_time_machine()\n",
    "print(lines[0])\n",
    "print(lines[10])\n",
    "# the time machine by h g wells\n",
    "# twinkled and his usually pale face was flushed and animated the"
   ],
   "outputs": [
    {
     "name": "stdout",
     "output_type": "stream",
     "text": [
      "the time machine by h g wells\n",
      "twinkled and his usually pale face was flushed and animated the\n"
     ]
    }
   ],
   "execution_count": 7
  },
  {
   "metadata": {
    "ExecuteTime": {
     "end_time": "2024-09-02T10:30:31.856851Z",
     "start_time": "2024-09-02T10:30:31.841846Z"
    }
   },
   "cell_type": "code",
   "source": [
    "def tokenize(lines, token='word'):\n",
    "    \"\"\"将文本行列表进行分词处理\"\"\"\n",
    "    if token == 'word':\n",
    "        # 以空格为分隔符将每行字符串拆分为单词列表\n",
    "        return [line.split() for line in lines]\n",
    "    elif token == 'char':\n",
    "        # 将每行字符串拆分为字符列表（包括空格）\n",
    "        return [list(line) for line in lines]\n",
    "    else:\n",
    "        print('错位：未知令牌类型：' + token)\n",
    "\n",
    "\n",
    "tokens = tokenize(lines)  # 对 lines 进行分词处理\n",
    "for i in range(11):\n",
    "    # 空列表表示空行\n",
    "    print(tokens[i])\n",
    "# ['the', 'time', 'machine', 'by', 'h', 'g', 'wells']\n",
    "# []\n",
    "# []\n",
    "# []\n",
    "# []\n",
    "# ['i']\n",
    "# []\n",
    "# []\n",
    "# ['the', 'time', 'traveller', 'for', 'so', 'it', 'will', 'be', 'convenient', 'to', 'speak', 'of', 'him']\n",
    "# ['was', 'expounding', 'a', 'recondite', 'matter', 'to', 'us', 'his', 'grey', 'eyes', 'shone', 'and']\n",
    "# ['twinkled', 'and', 'his', 'usually', 'pale', 'face', 'was', 'flushed', 'and', 'animated', 'the']"
   ],
   "id": "5eae80ecebdddfa",
   "outputs": [
    {
     "name": "stdout",
     "output_type": "stream",
     "text": [
      "['the', 'time', 'machine', 'by', 'h', 'g', 'wells']\n",
      "[]\n",
      "[]\n",
      "[]\n",
      "[]\n",
      "['i']\n",
      "[]\n",
      "[]\n",
      "['the', 'time', 'traveller', 'for', 'so', 'it', 'will', 'be', 'convenient', 'to', 'speak', 'of', 'him']\n",
      "['was', 'expounding', 'a', 'recondite', 'matter', 'to', 'us', 'his', 'grey', 'eyes', 'shone', 'and']\n",
      "['twinkled', 'and', 'his', 'usually', 'pale', 'face', 'was', 'flushed', 'and', 'animated', 'the']\n"
     ]
    }
   ],
   "execution_count": 8
  },
  {
   "metadata": {
    "ExecuteTime": {
     "end_time": "2024-09-02T10:30:31.937046Z",
     "start_time": "2024-09-02T10:30:31.922340Z"
    }
   },
   "cell_type": "code",
   "source": [
    "class Vocab:\n",
    "    \"\"\"文本词表\"\"\"\n",
    "\n",
    "    def __init__(self, tokens=None, min_freq=0, reserved_tokens=None):\n",
    "        \"\"\"初始化词表对象\"\"\"\n",
    "        if tokens is None:\n",
    "            tokens = []\n",
    "        if reserved_tokens is None:\n",
    "            reserved_tokens = []\n",
    "        counter = count_corpus(tokens)  # 统计 tokens 中词元的频率\n",
    "        self.token_freqs = sorted(counter.items(), key=lambda x: x[1], reverse=True)\n",
    "        # 设置未知标记索引为 0，构建包含未知标记和保留特殊标记的列表 uniq_tokens\n",
    "        self.unk, uniq_tokens = 0, ['<unk>'] + reserved_tokens\n",
    "        uniq_tokens += [token for token, freq in self.token_freqs\n",
    "                        if freq >= min_freq and token not in uniq_tokens]  # 保留词频大于等于 min_freq 的标记\n",
    "        # token_to_idx 获取词元到索引的映射，idx_to_token 获取索引到词元的映射(词表)\n",
    "        self.idx_to_token, self.token_to_idx = [], dict()\n",
    "        # 遍历 uniq_tokens 中的每个标记，将其添加到索引到标记的列表中，并将标记和对应索引存储到标记到索引的字典中\n",
    "        # 索引值从 0 开始递增，对应于标记在列表中的位置\n",
    "        for token in uniq_tokens:\n",
    "            self.idx_to_token.append(token)\n",
    "            # 将当前标记 `token` 和其对应的索引值存储到标记到索引的字典 `self.token_to_idx` 中\n",
    "            self.token_to_idx[token] = len(self.idx_to_token) - 1\n",
    "\n",
    "    def __len__(self):\n",
    "        \"\"\"获取词表的长度\"\"\"\n",
    "        return len(self.idx_to_token)\n",
    "\n",
    "    def __getitem__(self, tokens):\n",
    "        \"\"\"根据标记获取其对应的索引或索引列表\"\"\"\n",
    "        # 如果 tokens 不是列表或元组，则返回对应的索引或默认的未知标记索引\n",
    "        if not isinstance(tokens, (list, tuple)):\n",
    "            return self.token_to_idx.get(tokens, self.unk)\n",
    "        # 对于输入的标记列表 tokens，逐个调用 self.__getitem__() 方法获取每个标记对应的索引值，并返回索引值的列表  \n",
    "        return [self.__getitem__(token) for token in tokens]\n",
    "\n",
    "    def to_tokens(self, indices):\n",
    "        \"\"\"根据索引获取对应的标记或标记列表\"\"\"\n",
    "        # 如果输入的 indices 不是列表或元组类型，则返回对应索引值处的标记\n",
    "        if not isinstance(indices, (list, tuple)):\n",
    "            return self.idx_to_token[indices]\n",
    "        return [self.idx_to_token[index] for index in indices]\n",
    "\n",
    "\n",
    "def count_corpus(tokens):\n",
    "    \"\"\"统计标记的频率\"\"\"\n",
    "    if len(tokens) == 0 or isinstance(tokens[0], list):\n",
    "        # 如果 tokens 是一个列表的列表，则将其展平为一维列表\n",
    "        tokens = [token for line in tokens for token in line]\n",
    "    return collections.Counter(tokens)  # 使用 Counter 对象统计词元的频率"
   ],
   "id": "4c051d5f3e62613a",
   "outputs": [],
   "execution_count": 9
  },
  {
   "metadata": {
    "ExecuteTime": {
     "end_time": "2024-09-02T10:30:32.103988Z",
     "start_time": "2024-09-02T10:30:31.966499Z"
    }
   },
   "cell_type": "code",
   "source": [
    "# 构建词汇表\n",
    "vocab = Vocab(tokens)  # 创建词表\n",
    "print(list(vocab.token_to_idx.items())[:10])\n",
    "# [('<unk>', 0), ('the', 1), ('i', 2), ('and', 3), ('of', 4), ('a', 5), ('to', 6), ('was', 7), ('in', 8), ('that', 9)]"
   ],
   "id": "ff79d59479f3f7ca",
   "outputs": [
    {
     "name": "stdout",
     "output_type": "stream",
     "text": [
      "[('<unk>', 0), ('the', 1), ('i', 2), ('and', 3), ('of', 4), ('a', 5), ('to', 6), ('was', 7), ('in', 8), ('that', 9)]\n"
     ]
    }
   ],
   "execution_count": 10
  },
  {
   "metadata": {
    "ExecuteTime": {
     "end_time": "2024-09-02T10:30:32.156462Z",
     "start_time": "2024-09-02T10:30:32.152239Z"
    }
   },
   "cell_type": "code",
   "source": [
    "# 将每一行文本转换成一个数字索引列表\n",
    "for i in [0, 10]:\n",
    "    print('文本:', tokens[i])\n",
    "    print('索引:', vocab[tokens[i]])\n",
    "# 文本: ['the', 'time', 'machine', 'by', 'h', 'g', 'wells']\n",
    "# 索引: [1, 19, 50, 40, 2183, 2184, 400]\n",
    "# 文本: ['twinkled', 'and', 'his', 'usually', 'pale', 'face', 'was', 'flushed', 'and', 'animated', 'the']\n",
    "# 索引: [2186, 3, 25, 1044, 362, 113, 7, 1421, 3, 1045, 1]"
   ],
   "id": "597a440ffe39931",
   "outputs": [
    {
     "name": "stdout",
     "output_type": "stream",
     "text": [
      "文本: ['the', 'time', 'machine', 'by', 'h', 'g', 'wells']\n",
      "索引: [1, 19, 50, 40, 2183, 2184, 400]\n",
      "文本: ['twinkled', 'and', 'his', 'usually', 'pale', 'face', 'was', 'flushed', 'and', 'animated', 'the']\n",
      "索引: [2186, 3, 25, 1044, 362, 113, 7, 1421, 3, 1045, 1]\n"
     ]
    }
   ],
   "execution_count": 11
  },
  {
   "metadata": {
    "ExecuteTime": {
     "end_time": "2024-09-02T10:30:32.326094Z",
     "start_time": "2024-09-02T10:30:32.208052Z"
    }
   },
   "cell_type": "code",
   "source": [
    "def load_corpus_time_machine(max_tokens=-1):\n",
    "    \"\"\"返回时光机器数据集的标记索引列表和词汇表\"\"\"\n",
    "    lines = read_time_machine()\n",
    "    tokens = tokenize(lines, 'char')  # 以字符为单位进行分词\n",
    "    vocab = Vocab(tokens)  # 创建词表\n",
    "    # 将文本转换为标记索引列表\n",
    "    corpus = [vocab[token] for line in tokens for token in line]\n",
    "    # 截断文本长度（若有限制）\n",
    "    if max_tokens > 0:\n",
    "        # 对标记索引列表 corpus 进行截断，只保留前 max_tokens 个标记\n",
    "        corpus = corpus[:max_tokens]\n",
    "    return corpus, vocab\n",
    "\n",
    "\n",
    "# 载入时光机器数据集的标记索引列表和词汇表\n",
    "corpus, vocab = load_corpus_time_machine()\n",
    "print(len(corpus), len(vocab))\n",
    "# 170580 28\n",
    "print(vocab.token_to_idx.keys())\n",
    "# dict_keys(['<unk>', ' ', 'e', 't', 'a', 'i', 'n', 'o', 's', 'h', 'r', 'd', 'l', 'm', 'u', 'c', 'f', 'w', 'g', 'y', 'p', 'b', 'v', 'k', 'x', 'z', 'j', 'q'])"
   ],
   "id": "24163d387f102d43",
   "outputs": [
    {
     "name": "stdout",
     "output_type": "stream",
     "text": [
      "170580 28\n",
      "dict_keys(['<unk>', ' ', 'e', 't', 'a', 'i', 'n', 'o', 's', 'h', 'r', 'd', 'l', 'm', 'u', 'c', 'f', 'w', 'g', 'y', 'p', 'b', 'v', 'k', 'x', 'z', 'j', 'q'])\n"
     ]
    }
   ],
   "execution_count": 12
  }
 ],
 "metadata": {
  "kernelspec": {
   "display_name": "Python 3",
   "language": "python",
   "name": "python3"
  },
  "language_info": {
   "codemirror_mode": {
    "name": "ipython",
    "version": 2
   },
   "file_extension": ".py",
   "mimetype": "text/x-python",
   "name": "python",
   "nbconvert_exporter": "python",
   "pygments_lexer": "ipython2",
   "version": "2.7.6"
  }
 },
 "nbformat": 4,
 "nbformat_minor": 5
}
