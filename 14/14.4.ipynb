{
 "cells": [
  {
   "cell_type": "code",
   "id": "initial_id",
   "metadata": {
    "collapsed": true
   },
   "source": [
    "%matplotlib inline\n",
    "import math\n",
    "import torch\n",
    "from torch import nn\n",
    "from torch.nn import functional as F\n",
    "from d2l import torch as d2l\n",
    "\n",
    "batch_size, num_steps = 32, 35\n",
    "train_iter, vocab = d2l.load_data_time_machine(batch_size, num_steps)"
   ],
   "outputs": [],
   "execution_count": null
  },
  {
   "metadata": {},
   "cell_type": "code",
   "source": [
    "# 独热编码\n",
    "# 打印词汇表的大小\n",
    "print(len(vocab))\n",
    "# 使用独热编码将 [0, 2] 表示的物体下标转换为独热向量，其中0表示第一个元素，2表示第3个元素\n",
    "F.one_hot(torch.tensor([0, 2]), len(vocab))\n",
    "# 28\n",
    "# tensor([[1, 0, 0, 0, 0, 0, 0, 0, 0, 0, 0, 0, 0, 0, 0, 0, 0, 0, 0, 0, 0, 0, 0, 0,\n",
    "#          0, 0, 0, 0],\n",
    "#         [0, 0, 1, 0, 0, 0, 0, 0, 0, 0, 0, 0, 0, 0, 0, 0, 0, 0, 0, 0, 0, 0, 0, 0,\n",
    "#          0, 0, 0, 0]])"
   ],
   "id": "adc7b3d27794abbc",
   "outputs": [],
   "execution_count": null
  },
  {
   "metadata": {},
   "cell_type": "code",
   "source": [
    "# 小批量形状是(批量大小，时间步数)\n",
    "X = torch.arange(10).reshape((2, 5))\n",
    "# 对X的转置进行独热编码，其中28表示编码长度，返回独热编码后的形状\n",
    "F.one_hot(X.T, 28).shape\n",
    "# torch.Size([5, 2, 28])"
   ],
   "id": "840fb0adfbbd96ac",
   "outputs": [],
   "execution_count": null
  },
  {
   "metadata": {},
   "cell_type": "code",
   "source": [
    "def get_params(vocab_size, num_hiddens, device):\n",
    "    \"\"\"\n",
    "    初始化循环神经网络模型的模型参数\n",
    "    :param vocab_size: 词汇表大小\n",
    "    :param num_hiddens: 隐藏层大小\n",
    "    :return: 返回模型参数（权重矩阵和偏置向量）\n",
    "    \"\"\"\n",
    "    num_inputs = num_outputs = vocab_size  # 输入输出为经 one-hot 编码后的词汇向量\n",
    "\n",
    "    def normal(shape):\n",
    "        \"\"\"生成指定形状的随机张量\"\"\"\n",
    "        return torch.randn(size=shape, device=device) * 0.01\n",
    "\n",
    "    # 初始化模型参数\n",
    "    W_xh = normal((num_inputs, num_hiddens))\n",
    "    W_hh = normal((num_hiddens, num_hiddens))\n",
    "    b_h = torch.zeros(num_hiddens, device=device)\n",
    "    W_hq = normal((num_hiddens, num_outputs))\n",
    "    b_q = torch.zeros(num_outputs, device=device)\n",
    "\n",
    "    params = [W_xh, W_hh, b_h, W_hq, b_q]\n",
    "    for param in params:\n",
    "        param.requires_grad_(True)  # 设置参数为需要梯度更新\n",
    "\n",
    "    return params"
   ],
   "id": "9c51973e8b5c2615",
   "outputs": [],
   "execution_count": null
  },
  {
   "metadata": {},
   "cell_type": "code",
   "source": [
    "def init_rnn_state(batch_size, num_hiddens, device):\n",
    "    \"\"\"初始化为零的隐藏状态\"\"\"\n",
    "    return (torch.zeros((batch_size, num_hiddens), device=device),)"
   ],
   "id": "476786fe46e5c6d2",
   "outputs": [],
   "execution_count": null
  },
  {
   "metadata": {},
   "cell_type": "code",
   "source": [
    "def rnn(inputs, state, params):\n",
    "    \"\"\"\n",
    "    定义循环神经网络模型，包括了所有时间步的计算，类似于前向传播\n",
    "    :param inputs: 输入序列形状为 (时间步数，批量大小, 词汇表大小)\n",
    "    :param state: 隐藏状态，形状为 (批量大小, 隐藏层大小)\n",
    "    :param params: 模型参数，包含权重矩阵和偏置向量\n",
    "    :return: 返回输出序列和新的隐藏状态，Y 形状为 (时间步数 * 批量大小, 输出大小)\n",
    "    \"\"\"\n",
    "    W_xh, W_hh, b_h, W_hq, b_q = params\n",
    "    H, = state\n",
    "    outputs = []\n",
    "    for X in inputs:  # 对于每个时间步\n",
    "        # 根据当前输入 X、上一时间步的隐藏状态 H、以及权重矩阵和偏置向量来计算\n",
    "        H = torch.tanh(torch.mm(X, W_xh) + torch.mm(H, W_hh) + b_h)  # 更新隐状态\n",
    "        # 计算输出 Y，通过隐藏状态 H 与权重矩阵 W_hq 相乘并加上偏置向量 b_q 得到\n",
    "        Y = torch.mm(H, W_hq) + b_q\n",
    "        outputs.append(Y)\n",
    "    return torch.cat(outputs, dim=0), (H,)  # 形状：(时间步数 * 批量大小, 输出大小)"
   ],
   "id": "45e2b8e0d254925b",
   "outputs": [],
   "execution_count": null
  },
  {
   "metadata": {},
   "cell_type": "code",
   "source": [
    "# 创建一个类来包装这些函数\n",
    "class RNNModelScratch:\n",
    "    def __init__(self, vocab_size, num_hiddens, device, get_params,\n",
    "                 init_state, forward_fn):\n",
    "        \"\"\"初始化模型\"\"\"\n",
    "        self.vocab_size, self.num_hiddens = vocab_size, num_hiddens  # 词汇表大小，隐藏层大小\n",
    "        self.params = get_params(vocab_size, num_hiddens, device)\n",
    "        self.init_state, self.forward_fn = init_state, forward_fn  # 隐藏状态初始化函数，前向传播函数（rnn）\n",
    "\n",
    "    def __call__(self, X, state):\n",
    "        # 将输入序列 X 进行独热编码，形状为 (时间步数, 批量大小, 词汇表大小)\n",
    "        X = F.one_hot(X.T, self.vocab_size).type(torch.float32)\n",
    "        # 调用前向传播函数进行模型计算，并返回输出，形状为 (时间步数 * 批量大小, 输出大小)\n",
    "        return self.forward_fn(X, state, self.params)\n",
    "\n",
    "    def begin_state(self, batch_size, device):\n",
    "        # 返回初始化的隐藏状态，用于模型的初始时间步\n",
    "        return self.init_state(batch_size, self.num_hiddens, device)"
   ],
   "id": "bf2e73e4ab7781d0",
   "outputs": [],
   "execution_count": null
  },
  {
   "metadata": {},
   "cell_type": "code",
   "source": [
    "# 检查输出是否具有正确的形状\n",
    "num_hiddens = 512\n",
    "net = RNNModelScratch(len(vocab), num_hiddens, d2l.try_gpu(), get_params,\n",
    "                      init_rnn_state, rnn)\n",
    "state = net.begin_state(X.shape[0], d2l.try_gpu())  # （批量大小，隐藏层大小）\n",
    "Y, new_state = net(X.to(d2l.try_gpu()), state)  # 前向传播\n",
    "Y.shape, type(new_state), len(new_state), new_state[0].shape\n",
    "# (torch.Size([10, 28]), tuple, 1, torch.Size([2, 512]))"
   ],
   "id": "8786d5d4a4061b31",
   "outputs": [],
   "execution_count": null
  },
  {
   "metadata": {},
   "cell_type": "code",
   "source": [
    "def predict_ch8(prefix, num_preds, net, vocab, device):\n",
    "    \"\"\"在prefix后面生成新字符\n",
    "    :param prefix: 字符串，表示要生成新字符的前缀\n",
    "    :param num_preds: 要生成的新字符的数量\n",
    "    :param net: 循环神经网络模型\n",
    "    :param vocab: 词汇表\n",
    "    \"\"\"\n",
    "    state = net.begin_state(batch_size=1, device=device)  # 隐藏状态初始化\n",
    "    outputs = [vocab[prefix[0]]]  # 第一个输出，方便 get_input 函数获取\n",
    "    get_input = lambda: torch.tensor([outputs[-1]], device=device).reshape(\n",
    "        (1, 1))  # 张量化函数，将最近预测的字符作为输入，形状为 (时间步数, 批量大小)\n",
    "    for y in prefix[1:]:  # 预热期间的输入，此时在更新隐藏状态\n",
    "        _, state = net(get_input(), state)\n",
    "        outputs.append(vocab[y])\n",
    "    for _ in range(num_preds):  # 预测num_preds步\n",
    "        y, state = net(get_input(), state)\n",
    "        outputs.append(int(y.argmax(dim=1).reshape(1)))\n",
    "    return ''.join([vocab.idx_to_token[i] for i in outputs])\n",
    "\n",
    "\n",
    "predict_ch8('time traveller ', 10, net, vocab, d2l.try_gpu())\n",
    "# 'time traveller lkxdcccccc'"
   ],
   "id": "d0d360188ecadbed",
   "outputs": [],
   "execution_count": null
  },
  {
   "metadata": {},
   "cell_type": "code",
   "source": [
    "def grad_clipping(net, theta):\n",
    "    \"\"\"\n",
    "    裁剪梯度\n",
    "    :param net: 循环神经网络模型\n",
    "    :param theta: 裁剪阈值\n",
    "    \"\"\"\n",
    "    if isinstance(net, nn.Module):  # 如果 net 是 nn.Module 的实例\n",
    "        # 获取所有需要计算梯度的参数列表\n",
    "        params = [p for p in net.parameters() if p.requires_grad]\n",
    "    else:  # 如果 net 是自定义的模型\n",
    "        params = net.params\n",
    "    norm = torch.sqrt(sum(torch.sum((p.grad ** 2)) for p in params))  # 计算梯度范数\n",
    "    if norm > theta:  # 如果梯度范数大于裁剪阈值\n",
    "        for param in params:\n",
    "            param.grad[:] *= theta / norm  # 缩放梯度"
   ],
   "id": "ddbadc5f98670ead",
   "outputs": [],
   "execution_count": null
  },
  {
   "metadata": {},
   "cell_type": "code",
   "source": [
    "# 定义一个函数来训练只有一个迭代周期的模型\n",
    "def train_epoch_ch8(net, train_iter, loss, updater, device, use_random_iter):\n",
    "    \"\"\"\n",
    "    训练模型一个迭代周期\n",
    "    :param net: 循环神经网络模型\n",
    "    :param train_iter: 训练数据集\n",
    "    :param loss: 损失函数\n",
    "    :param updater: 自定义的更新函数或 PyTorch 内置的优化器\n",
    "    :param use_random_iter: 是否使用随机迭代器\n",
    "    \"\"\"\n",
    "    state, timer = None, d2l.Timer()\n",
    "    metric = d2l.Accumulator(2)  # 初始化度量指标的累加器，用于计算损失和样本数量\n",
    "    for X, Y in train_iter:\n",
    "        if state is None or use_random_iter:  # 如果隐藏状态为空或使用随机迭代器\n",
    "            state = net.begin_state(batch_size=X.shape[0], device=device)\n",
    "        else:  # 使用上一时间步的隐藏状态\n",
    "            if isinstance(net, nn.Module) and not isinstance(state, tuple):  # 如果 net 是 nn.Module 的实例且 state 不是 tuple\n",
    "                state.detach_()  # 对于 nn.Module 的实例，分离隐藏状态的计算图，用于减少内存占用和加速计算\n",
    "            else:  # 如果 net 是自定义的模型或 state 是 tuple\n",
    "                for s in state:\n",
    "                    s.detach_()  # 对于自定义的模型或 state 是 tuple，分离隐藏状态的计算图\n",
    "        y = Y.T.reshape(-1)  # 转置后，形状为 (时间步数, 批量大小,)\n",
    "        X, y = X.to(device), y.to(device)\n",
    "        y_hat, state = net(X, state)  # 前向传播计算预测值和新的隐藏状态\n",
    "        # 一下为标准的多分类问题\n",
    "        l = loss(y_hat, y.long()).mean()  # 计算交叉熵损失\n",
    "        if isinstance(updater, torch.optim.Optimizer):  # 如果 updater 是 torch 内置的优化器\n",
    "            updater.zero_grad()  # 梯度清零\n",
    "            l.backward()  # 反向传播计算梯度\n",
    "            grad_clipping(net, 1)  # 裁剪梯度\n",
    "            updater.step()  # 使用优化器更新参数\n",
    "        else:\n",
    "            l.backward()  # 反向传播计算梯度\n",
    "            grad_clipping(net, 1)  # 裁剪梯度\n",
    "            updater(batch_size=1)  # 更新参数\n",
    "        metric.add(l * y.numel(), y.numel())  # 累加损失和样本数量\n",
    "    return math.exp(metric[0] / metric[1]), metric[1] / timer.stop()"
   ],
   "id": "3f9b01e3b663d553",
   "outputs": [],
   "execution_count": null
  },
  {
   "metadata": {},
   "cell_type": "code",
   "source": [
    "def train_ch8(net, train_iter, vocab, lr, num_epochs, device, use_random_iter=False):\n",
    "    \"\"\"\n",
    "    训练模型\n",
    "    :param net: 循环神经网络模型\n",
    "    :param train_iter: 训练数据集\n",
    "    :param vocab: 词汇表\n",
    "    :param use_random_iter: 是否使用随机迭代器\n",
    "    \"\"\"\n",
    "    loss = nn.CrossEntropyLoss()  # 交叉熵损失函数\n",
    "    animator = d2l.Animator(xlabel='epoch', ylabel='perplexity', legend=['train'], xlim=[10, num_epochs])\n",
    "    if isinstance(net, nn.Module):  # 如果 net 是 nn.Module 的实例\n",
    "        updater = torch.optim.SGD(net.parameters(), lr)  # 使用 SGD 优化器\n",
    "    else:  # 否则，使用自定义的梯度下降函数进行参数更新\n",
    "        updater = lambda batch_size: d2l.sgd(net.params, lr, batch_size)\n",
    "    predict = lambda prefix: predict_ch8(prefix, 50, net, vocab, device)  # 定义预测函数\n",
    "    for epoch in range(num_epochs):\n",
    "        ppl, speed = train_epoch_ch8(net, train_iter, loss, updater, device, use_random_iter)\n",
    "        if (epoch + 1) % 10 == 0:\n",
    "            print(predict('time traveller'))\n",
    "            animator.add(epoch + 1, [ppl])\n",
    "    print(f'困惑度 {ppl:.1f}, {speed:.1f} 标记/秒 {str(device)}')\n",
    "    print(predict('time traveller'))\n",
    "    print(predict('traveller'))"
   ],
   "id": "edd41c6d77c2ca9d",
   "outputs": [],
   "execution_count": null
  },
  {
   "metadata": {},
   "cell_type": "code",
   "source": [
    "# 现在我们可以训练循环神经网络模型\n",
    "num_epochs, lr = 500, 1\n",
    "train_ch8(net, train_iter, vocab, lr, num_epochs, d2l.try_gpu())  # 循序分区"
   ],
   "id": "56e6e5f5e342dfc2",
   "outputs": [],
   "execution_count": null
  },
  {
   "metadata": {},
   "cell_type": "code",
   "source": [
    "# 最后，让我们检查一下使用随即抽样方法的结果\n",
    "train_ch8(net, train_iter, vocab, lr, num_epochs, d2l.try_gpu(), use_random_iter=True)  # 随机抽样分区"
   ],
   "id": "9b464c9f0f6bf6cf",
   "outputs": [],
   "execution_count": null
  }
 ],
 "metadata": {
  "kernelspec": {
   "display_name": "d2l_linux",
   "language": "python",
   "name": "d2l_linux"
  },
  "language_info": {
   "codemirror_mode": {
    "name": "ipython",
    "version": 2
   },
   "file_extension": ".py",
   "mimetype": "text/x-python",
   "name": "python",
   "nbconvert_exporter": "python",
   "pygments_lexer": "ipython2",
   "version": "2.7.6"
  }
 },
 "nbformat": 4,
 "nbformat_minor": 5
}
